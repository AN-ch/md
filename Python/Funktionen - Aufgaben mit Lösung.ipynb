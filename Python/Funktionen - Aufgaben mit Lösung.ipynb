{
 "cells": [
  {
   "cell_type": "markdown",
   "metadata": {},
   "source": [
    "# Aufgaben\n",
    "\n",
    "## Aufgabe 1:\n",
    "<br>\n",
    "Bitte geben Sie das aktuelle Datum in der Form: Stunde:Minute:Sekunde aus."
   ]
  },
  {
   "cell_type": "code",
   "execution_count": null,
   "metadata": {},
   "outputs": [],
   "source": [
    "import time\n",
    "lt = time.localtime\n",
    "print (time.strftime(\"Stunde:Minute:Sekunde: %H:%M:%S\"))"
   ]
  },
  {
   "cell_type": "markdown",
   "metadata": {},
   "source": [
    "## Aufgabe 2:\n",
    "<br>\n",
    "Ziehen Sie eine Stunde von der aktuellen Zeit ab:"
   ]
  },
  {
   "cell_type": "code",
   "execution_count": null,
   "metadata": {},
   "outputs": [],
   "source": [
    "from datetime import datetime, timedelta\n",
    "\n",
    "jetzt = datetime.now()\n",
    "frueher = jetzt + timedelta(minutes=-60)\n",
    "frueher = frueher.strftime(\"%H:%M\")\n",
    "\n",
    "\n",
    "print(\"Zeit jetzt:\", jetzt)\n",
    "print(\"Zeit - 60 Minuten:\", frueher)"
   ]
  },
  {
   "cell_type": "markdown",
   "metadata": {},
   "source": [
    "## Aufgabe 3:\n",
    "<br>\n",
    "Schreiben Sie eine Funktion zur Berechnung des **Umfang** eines Kreises und Übergeben Sie den Durchmesser zur Berechnung an die Funktion. Die benötigte Formel: u = π·d. Als π reicht 3.14."
   ]
  },
  {
   "cell_type": "code",
   "execution_count": null,
   "metadata": {},
   "outputs": [],
   "source": [
    "def kreisberechnung(durchmesser):\n",
    "    u = 3.14 * durchmesser\n",
    "    print(\"Der Umfang des Kreises mit den Durchmesser \", durchmesser, \"beträgt: \", u)\n",
    "\n",
    "\n",
    "kreisberechnung(10)"
   ]
  },
  {
   "cell_type": "markdown",
   "metadata": {},
   "source": [
    "## Aufgabe 4:\n",
    "Schreiben Sie eine Funktion, die das Volumen eines Quaders berechnet. Übergeben Sie dazu Länge, Breite, Höhe und Fragen Sie diese Informationen vorher ab."
   ]
  },
  {
   "cell_type": "code",
   "execution_count": null,
   "metadata": {},
   "outputs": [],
   "source": [
    "def berechnung(a, b, c):\n",
    "    vol = a * b * c\n",
    "    return vol\n",
    "\n",
    "def main():\n",
    "    a = int(input(\"Bitte geben Sie die Länge ein: \"))\n",
    "    b = int(input(\"Bitte geben Sie die Breite ein: \"))\n",
    "    c = int(input(\"Bitte geben Sie die Höhe ein: \"))\n",
    "    vol = berechnung(a, b, c)\n",
    "    print(\"Das Volumen beträgt: \", vol)\n",
    "\n",
    "main()"
   ]
  },
  {
   "cell_type": "markdown",
   "metadata": {},
   "source": [
    "## Aufgabe 5:\n",
    "Schreiben Sie eine Funktion, die die Einträge im Warenkorb zusammenrechnet:\n",
    "<br> **Tipp:** Sie benötigen eine **for**-Schleife um die Aufgabe zu erfüllen.\n"
   ]
  },
  {
   "cell_type": "code",
   "execution_count": null,
   "metadata": {},
   "outputs": [],
   "source": [
    "#  Warenkorb\n",
    "warenkorb = [19.99, 2.99, 1.99, 3.99, 14.99, 12.99]\n",
    "\n",
    "#  Aufrufen der Funktion:\n",
    "warenpreis(warenkorb)\n",
    "\n",
    "\n",
    "#  Musterlösung:\n",
    "\n",
    "def warenpreis(summe):\n",
    "    total = 0\n",
    "    for i in summe:\n",
    "        total = total + i\n",
    "    print(total)    \n",
    "\n",
    "warenpreis(warenkorb)"
   ]
  },
  {
   "cell_type": "markdown",
   "metadata": {},
   "source": [
    "##  Aufgabe 6:\n",
    "Schreiben Sie ein Ratespiel in dem Sie zufällig generierte Zahlen addieren müssen. Benutzen Sie dazu Funktionen."
   ]
  },
  {
   "cell_type": "code",
   "execution_count": null,
   "metadata": {},
   "outputs": [],
   "source": [
    "import random\n",
    "\n",
    "\n",
    "def zufallszahlen():\n",
    "    random.seed()\n",
    "    a = random.randint(1, 100)\n",
    "    b = random.randint(1, 100)\n",
    "    return a, b\n",
    "\n",
    "\n",
    "def eingabe():\n",
    "    a, b = zufallszahlen()\n",
    "\n",
    "    print(\"Bitte geben Sie das Ergebnis von \", a, \"+\", b, \"ein.\")\n",
    "    eing = input(\"--> \")\n",
    "    eing = int(eing)\n",
    "    return eing, a, b\n",
    "\n",
    "\n",
    "def main():\n",
    "    eing, a, b = eingabe()\n",
    "    erg = a + b\n",
    "    if eing == erg:\n",
    "        print(\"Die Eingabe ist richtig!\")\n",
    "    else:\n",
    "        print(\"Leider falsch!\")\n",
    "\n",
    "\n",
    "if __name__ == '__main__':\n",
    "    main()"
   ]
  },
  {
   "cell_type": "markdown",
   "metadata": {},
   "source": [
    "## Aufgabe 7:\n",
    "Erweitern Sie das Spiel um einen Punkte- und Lebenszähler. Nutzen Sie dazu eine **while**-Schleife."
   ]
  },
  {
   "cell_type": "code",
   "execution_count": null,
   "metadata": {},
   "outputs": [],
   "source": [
    "import random\n",
    "import sys\n",
    "\n",
    "\n",
    "def zufallszahlen():\n",
    "    random.seed()\n",
    "    a = random.randint(1, 100)\n",
    "    b = random.randint(1, 100)\n",
    "    return a, b\n",
    "\n",
    "\n",
    "def eingabe(lives, score):\n",
    "\n",
    "    while lives > 0:\n",
    "        a, b = zufallszahlen()\n",
    "        print(\"Bitte geben Sie das Ergebnis von \", a, \"+\", b, \"ein, noch\", lives, \"Leben verfügbar.\")\n",
    "        eing = input(\" --> \")\n",
    "        eing = int(eing)\n",
    "        auswertung(a, b, eing, lives, score)\n",
    "\n",
    "\n",
    "def auswertung(a, b, eing, lives, score):\n",
    "    erg = a + b\n",
    "\n",
    "    if eing == erg:\n",
    "        print(\"Die Eingabe ist richtig!\")\n",
    "        score = score + 1\n",
    "        eingabe(lives, score)\n",
    "\n",
    "    else:\n",
    "        print(\"Leider falsch!\")\n",
    "        lives = lives - 1\n",
    "        eingabe(lives, score)\n",
    "\n",
    "    if lives >= 0:\n",
    "        print(\"Spielende! Sie haben\", score, \" Punkt(e)\")\n",
    "        sys.exit(0)\n",
    "\n",
    "\n",
    "def main():\n",
    "    lives = 3\n",
    "    score = 0\n",
    "    eingabe(lives, score)\n",
    "\n",
    "\n",
    "if __name__ == '__main__':\n",
    "    main()\n"
   ]
  },
  {
   "cell_type": "markdown",
   "metadata": {},
   "source": [
    "<img style=\"float: center;\" src=\"img/wbs-logo.jpg\">\n",
    "\n",
    "\n",
    "### Abbildungs- und Quellenverzeichnis\n",
    "https://de.wikipedia.org/wiki/Python_(Programmiersprache)\n",
    "Das Python Logo ist ein eingetragenes Warenzeichen der Python Software Foundation\n",
    "Alle auf dieser Website veröffentlichten Logos sowie Marken-, Produkt- und Warenzeichen sind Eigentum der jeweiligen Unternehmen\n",
    "© WBS TRAINING AG – Alle Rechte vorbehalten\n",
    "\n",
    "### Nutzungsrechte:\n",
    "Die Nutzung dieser Dokumentation ist ausschließlich für Schulungszwecke der WBS TRAINING AG gestattet. Eine Weitergabe an Dritte, auch auszugsweise, sowie Vervielfältigungen und Verbreitungen aller Art (elektronische und andere Verfahren) inklusive Übersetzungen sind nur mit vorheriger schriftlicher Zustimmung des Rechtinhabers gestattet. Zuwiderhandlungen verpflichten zu Schadenersatz.\n",
    "\n",
    "### Herausgeber:\n",
    "\n",
    "WBS TRAINING AG\n",
    "Lorenzweg 5\n",
    "12099 Berlin\n",
    "\n",
    "### Haftungsausschluss:\n",
    "Alle Inhalte sind nach bestem Wissen korrekt und vollständig recherchiert und mit größtmöglicher Sorgfalt für die Schulungsunterlage zusammengestellt. Wir sind um die laufende Aktualisierung aller Informationen und Daten bemüht. Dennoch können Fehler (z.B. Abweichungen zur beschriebenen Hard- und Software durch kurzfristige Updates) auftreten, sodass wir für die vollständige Übereinstimmung, Richtigkeit und Aktualität keine Gewähr übernehmen. Hinweise unserer Nutzer werden konsequent weiterverfolgt.\n"
   ]
  }
 ],
 "metadata": {
  "kernelspec": {
   "display_name": "Python 3",
   "language": "python",
   "name": "python3"
  },
  "language_info": {
   "codemirror_mode": {
    "name": "ipython",
    "version": 3
   },
   "file_extension": ".py",
   "mimetype": "text/x-python",
   "name": "python",
   "nbconvert_exporter": "python",
   "pygments_lexer": "ipython3",
   "version": "3.8.5"
  }
 },
 "nbformat": 4,
 "nbformat_minor": 4
}
