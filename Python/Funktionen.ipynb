{
 "cells": [
  {
   "cell_type": "markdown",
   "metadata": {},
   "source": [
    "<img style=\"float: right;\" src=\"img/python.png\">\n",
    "\n",
    "# Tag 4: Datum und Zeit, Funktionen\n",
    "## Datum und Zeit <br>\n",
    "\n",
    "Datum und Zeitangaben werden in der Programmierung immer wieder verwendet. Es lohnt sich daher diese Funktionen einmal genauer zu betrachten.<br><br><br>\n",
    "\n"
   ]
  },
  {
   "cell_type": "markdown",
   "metadata": {},
   "source": [
    "## Das Modul \"time\"\n",
    "Das Modul Time enthält Funktionen  zur Formatierung und Verarbeitung Datums- und Zeitangaben. Bei vielen Betriebssystemen, wie auch Linux/Unix wird der **01. 01. 1970 00:00 Uhr** als Nullpunkt für die Zeitrechnung verwendet. Die Zeit wird in Sekunden ab diesen Zeitpunkt gerechnet. Das Modul \"time\" muss vor der Nutzung importiert werden. (Weitere Informationen zum \"time\"-Modul finden Sie unter: https://docs.python.org/3/library/time.html"
   ]
  },
  {
   "cell_type": "code",
   "execution_count": null,
   "metadata": {},
   "outputs": [],
   "source": [
    "import time\n",
    "z = time.time()\n",
    "print(z)"
   ]
  },
  {
   "cell_type": "markdown",
   "metadata": {},
   "source": [
    "Zugegeben, diese Zeitangabe ist ein wenig schwierig zu lesen. Es gibt andere Möglichkeiten mit der Zeit zu arbeiten."
   ]
  },
  {
   "cell_type": "markdown",
   "metadata": {},
   "source": [
    "### Funktion strftime()\n",
    "Bessere Informationen bietet die Funktion **strftime()**. Diese benötigt 2 Parameter:\n",
    "* Einen Formatierungsstring\n",
    "* ein Zeittupel, der z. B. von **localtime()** geliefert wird\n",
    "\n",
    "Eine Dokumentation von strftime() finden Sie unter der folgenden Adresse:<br> \n",
    "https://docs.python.org/3/library/datetime.html#strftime-and-strptime-format-codes\n",
    "<br>\n"
   ]
  },
  {
   "cell_type": "code",
   "execution_count": null,
   "metadata": {},
   "outputs": [],
   "source": [
    "import time\n",
    "lt = time.localtime\n",
    "\n",
    "print (time.strftime(\"Tag.Monat.Jahr: %d.%m.%Y\"))\n",
    "print (time.strftime(\"Stunde:Minute:Sekunde: %H:%M:%S\"))\n",
    "print (time.strftime(\"Im 12h-Format: %I:%M:%S Uhr %p\"))\n",
    "print (time.strftime(\"Datum und Zeit: %c\"))\n",
    "print (time.strftime(\"nur Datum: %x, nur Zeit: %X\"))\n",
    "print (time.strftime(\"Wochentag abgekürzt: %a, ganz: %A, Nr. (Sonntag=0): %w\"))\n",
    "print (time.strftime(\"Monat abgekürzt: %b, ganz: %B\"))\n",
    "print (time.strftime(\"Tag des jahres: %j\"))\n",
    "print (time.strftime(\"Woche des Jahres, Start bei Sonntag: %U\"))\n",
    "print (time.strftime(\"Woche des Jahres, Start bei Montag: %W\"))\n",
    "print (time.strftime(\"Zeitzone: %Z\"))"
   ]
  },
  {
   "cell_type": "markdown",
   "metadata": {},
   "source": [
    "### Mit Zeiten rechnen\n",
    "Wieder eine stets beliebte Funktion ist es, mit Zeiten zu rechnen. Dazu wird **unter Umständen** das Modul **\"datetime\"** benötigt.\n",
    "Mehr Informationen zu **datetime** finden Sie unter: https://docs.python.org/3/library/datetime.html"
   ]
  },
  {
   "cell_type": "markdown",
   "metadata": {},
   "source": [
    "In den folgenden Beispiel wird einfach die **aktuelle** Zeit genommen, und **45 Minuten** dazu gerechnet:"
   ]
  },
  {
   "cell_type": "code",
   "execution_count": null,
   "metadata": {},
   "outputs": [],
   "source": [
    "from datetime import datetime, timedelta\n",
    "\n",
    "jetzt = datetime.now() # Aktuelle Zeit nehmen\n",
    "spaeter = jetzt + timedelta(minutes=45) # 45 Minuten dazu rechnen\n",
    "spaeter = spaeter.strftime(\"%H:%M\") # formatieren\n",
    "print(\"Zeit jetzt:\", jetzt)\n",
    "print(\"Zeit + 45 Minuten:\", spaeter) # formatiert ausgeben"
   ]
  },
  {
   "cell_type": "markdown",
   "metadata": {},
   "source": [
    "Für eine vernünftige Zeitmessung, oder Logdateien etc. ist das vorherige Beispiel natürlich recht ungeeignet. Das folgende Beispiel zeigt eine Möglichkeit auf, eine gewisse Zeitspanne messen zu lassen:"
   ]
  },
  {
   "cell_type": "code",
   "execution_count": null,
   "metadata": {},
   "outputs": [],
   "source": [
    "from datetime import datetime, timedelta\n",
    "from time import sleep\n",
    "\n",
    "jetzt = datetime.now()\n",
    "print(jetzt) \n",
    "\n",
    "sleep(2) # Wartezeit in Sekunden\n",
    "\n",
    "gleich = datetime.now()\n",
    "print(gleich)\n",
    "\n",
    "dauer = gleich - jetzt\n",
    "print(dauer)\n",
    "print(str(dauer)[:7]) # Das Ganze formatieren\n",
    "\n"
   ]
  },
  {
   "cell_type": "markdown",
   "metadata": {},
   "source": [
    "Eine ziemlich umständliche, aber sehr flexible Art, die Dauer auszurechnen, ist die, die benötigte Zeit in Sekunden zu messen,und danach in Stunden und Minuten umzurechnen. Dazu wird **Modulo** (siehe Tag 1) benötigt:"
   ]
  },
  {
   "cell_type": "code",
   "execution_count": null,
   "metadata": {},
   "outputs": [],
   "source": [
    "from datetime import datetime, timedelta\n",
    "from time import sleep\n",
    "\n",
    "jetzt = datetime.now()\n",
    "print(jetzt)\n",
    "\n",
    "sleep(2) # Wartezeit in Sekunden\n",
    "\n",
    "gleich = datetime.now()\n",
    "print(gleich)\n",
    "\n",
    "dauer = gleich - jetzt\n",
    "\n",
    "dauer_sek = dauer.total_seconds()\n",
    "print(\"Dauer in Sekunden: \", dauer_sek)\n",
    "\n",
    "# Stunden\n",
    "stunden = dauer_sek // 3600\n",
    "# remaining secondsverbleibene Sekunden\n",
    "dauer_sek = dauer_sek - (stunden * 3600)\n",
    "# Minuten\n",
    "minuten = dauer_sek // 60\n",
    "# übrig gebliebene Sekunden:\n",
    "sekunden = dauer_sek - (minuten * 60)\n",
    "# formatierte Ausgabe:\n",
    "print('{:02}:{:02}:{:02}'.format(int(stunden), int(minuten), int(sekunden)))"
   ]
  },
  {
   "cell_type": "markdown",
   "metadata": {},
   "source": [
    "### Zeitanagabe erzeugen:\n",
    "Um eine Zeitangabe zu erzeugen ist die Funktion **mktime()** das mittel der Wahl."
   ]
  },
  {
   "cell_type": "code",
   "execution_count": null,
   "metadata": {},
   "outputs": [],
   "source": [
    "import time\n",
    "\n",
    "#  Zeittupel erzeugen (JJJJ, MM, TT, S, M, s, s, s, s\n",
    "zeit = 2021, 4, 27, 8, 27, 0, 0, 0, 0\n",
    "print(time.strftime(\"%d.%m.%Y %H:%M:%S\", zeit))\n",
    "stempel = time.mktime(zeit)\n",
    "\n",
    "lt = time.localtime(stempel)\n",
    "\n",
    "#  Wochentage\n",
    "wtage = [\"Montag\", \"Dienstag\", \"Mittwoch\", \"Donnerstag\", \"Freitag\", \"Samstag\", \"Sonntag\"]\n",
    "\n",
    "wochentag = lt[6]\n",
    "\n",
    "print(\"Es handelt sich im einen \", wtage[wochentag])\n",
    "\n",
    "#  Tag des Jahres\n",
    "tdj = lt[7]\n",
    "\n",
    "print(\"Der {0:d}. Tag des Jahres\".format(tdj))"
   ]
  },
  {
   "cell_type": "markdown",
   "metadata": {},
   "source": [
    "## Funktionen\n",
    "\n",
    "Bei den bisherigen recht kleinen und übersichtlichen Programmen war es kein Problem sogenannten \"Spagetticode\" zu schreiben. Also Code, der einfach von oben nach unten abgearbeitet wird. \n",
    "Bei umfangreichen oder wachsenen Projekten ist das **modularisieren** von Code mit Hilfe von **Funktionen** deutlich effektiver.<br> Dadurch wird Code wiederverwendbar und viel übersichtlicher. Nützliche Programme können außerdem leichter in anderen Programmen wiederverwendet werden. Einige Funktionen sind unter Python schon vorgegeben, zum Beispiel **print()**, **input()** usw. Man erkennt Funktionen an den abschließenden Klammern.\n"
   ]
  },
  {
   "cell_type": "markdown",
   "metadata": {},
   "source": [
    "### Einfache Funktionen\n",
    "Einfache Funktionen führen beim Aufruf immer dieselbe Funktion, ohne Übergabe von irgendwelchen Parametern aus."
   ]
  },
  {
   "cell_type": "code",
   "execution_count": null,
   "metadata": {},
   "outputs": [],
   "source": [
    "# Die Funktion wird erstellt:\n",
    "def trenner():\n",
    "    print()\n",
    "    print(\"/////////////////////\")\n",
    "    print(\"// Nächster Schritt//\")\n",
    "    print(\"/////////////////////\")\n",
    "    print()\n",
    "\n",
    "# Hauptprogramm (nicht schön, aber zur Demo):\n",
    "zahl1 = 10\n",
    "zahl2 = 30\n",
    "\n",
    "print(\"Addieren:\")\n",
    "print(zahl1, \"+\", zahl2, \"=\", zahl1+zahl2)\n",
    "\n",
    "trenner() # Funktion wird aufgerufen\n",
    "print(\"Multiplizieren:\")\n",
    "print(zahl1, \"*\", zahl2, \"=\", zahl1*zahl2)\n",
    "\n",
    "trenner() # Funktion wird zum zweiten mal aufgerufen\n",
    "print(\"Subtrahieren:\")\n",
    "print(zahl1, \"-\", zahl2, \"=\", zahl1-zahl2)\n",
    "\n",
    "trenner() # zum dritten mal...\n",
    "print(\"usw...\")"
   ]
  },
  {
   "cell_type": "markdown",
   "metadata": {},
   "source": [
    "Was bei Funktionen  unglaublich **wichtig** ist, sind die **Einrückungen**. Genau wie bei Schleifen. Laut PEP8-Standard (Python-Styleguide) Soll eine **Einrückung** aus **4 Leerzeichen** bestehen. Moderne IDEs wie PyCharm wandeln einen Druck auf Tabulator automatisch in 4 Leerzeichen um. Außerdem sollen nach PEP8 **2 Leerzeilen** nach der Definition einer Funktion erfolgen. <br>\n",
    "Weitere wichtige Informationen:\n",
    "* Funktionanamen dürfen nicht den Namen vorgefertigter oder eingebauter Python-Funktionen entsprechen.\n",
    "* Funktionen dürfen nicht mit einer Ziffer beginnen\n",
    "* Funktionen dürfen die Zeichen a-z, A-Z, aus Ziffern und dem\"_\"-Zeichen bestehen.\n",
    "* Laut PEP8-Standard sollen Funktionsnamen klein geschrieben werden, nicht wie bei Beispielsweise C in Camel-Case.\n"
   ]
  },
  {
   "cell_type": "markdown",
   "metadata": {},
   "source": [
    "### Funktionen mit einem Parameter\n",
    "Diese Funktionen ermöglichen es, das bei Aufruf Informationen an die Funktion weitergegeben werden können. Diese Information nennt sich **Parameter**. Diese Parameter werden dann innerhalb der Funktion ausgewertet oder weiterbearbeitet.<br>\n",
    "Beispiel 1:"
   ]
  },
  {
   "cell_type": "code",
   "execution_count": null,
   "metadata": {},
   "outputs": [],
   "source": [
    "# Die Funktion wird erstellt:\n",
    "def trenner(name):\n",
    "    print()\n",
    "    print(\"/////////////////////\")\n",
    "    print(name)\n",
    "    print(\"/////////////////////\")\n",
    "    print()\n",
    "\n",
    "\n",
    "# Hauptprogramm (nicht schön, aber zur Demo):\n",
    "zahl1 = 10\n",
    "zahl2 = 30\n",
    "trenner(\"Addieren\")\n",
    "\n",
    "print(zahl1, \"+\", zahl2, \"=\", zahl1+zahl2)\n",
    "\n",
    "trenner(\"Multiplizieren\")\n",
    "\n",
    "print(zahl1, \"*\", zahl2, \"=\", zahl1*zahl2)\n",
    "\n",
    "trenner(\"Subtrahieren\")\n",
    "\n",
    "print(zahl1, \"-\", zahl2, \"=\", zahl1-zahl2)\n",
    "\n",
    "trenner(\"Weiteres Blabla...\")\n",
    "print(\"usw...\")"
   ]
  },
  {
   "cell_type": "markdown",
   "metadata": {},
   "source": [
    "Beispiel 2:"
   ]
  },
  {
   "cell_type": "code",
   "execution_count": null,
   "metadata": {},
   "outputs": [],
   "source": [
    "# Die Funktionen werden erstellt:\n",
    "def trenner(name):\n",
    "    print()\n",
    "    print(\"/////////////////////\")\n",
    "    print(name)\n",
    "    print(\"/////////////////////\")\n",
    "    print()\n",
    "\n",
    "\n",
    "def quadrat(zahl):\n",
    "    erg = zahl * zahl\n",
    "    print(\"Das Quadrat von \", zahl, \"ist: \", erg)\n",
    "\n",
    "\n",
    "def addition(zahl):\n",
    "    erg = zahl + zahl\n",
    "    print(\"Das Ergebnis von:\", zahl, \"+\", zahl, \"ist:\", erg)\n",
    "\n",
    "\n",
    "#  Aufruf der Funktionen\n",
    "\n",
    "trenner(\"Quadrat\")\n",
    "quadrat(4)\n",
    "trenner(\"Addition\")\n",
    "addition(3)"
   ]
  },
  {
   "cell_type": "markdown",
   "metadata": {},
   "source": [
    "### Funktionen mit mehreren Parametern\n",
    "Manchmal reicht ein Parameter nicht aus. Da müssen schonmal 2 oder mehr her."
   ]
  },
  {
   "cell_type": "code",
   "execution_count": null,
   "metadata": {},
   "outputs": [],
   "source": [
    "# Die Funktionen werden erstellt:\n",
    "def trenner(name):\n",
    "    print()\n",
    "    print(\"/////////////////////\")\n",
    "    print(name)\n",
    "    print(\"/////////////////////\")\n",
    "    print()\n",
    "\n",
    "\n",
    "def quadrat(zahl):\n",
    "    erg = zahl * zahl\n",
    "    print(\"Das Quadrat von \", zahl, \"ist: \", erg)\n",
    "\n",
    "def division(zahl1, zahl2):\n",
    "    erg = zahl1 / zahl2\n",
    "    print(\"Das Ergebnis von:\", zahl1, \"/\", zahl2, \"ist:\", erg)\n",
    "\n",
    "\n",
    "def addition(zahl1, zahl2, zahl3):\n",
    "    erg = zahl1 + zahl2 + zahl3\n",
    "    print(\"Das Ergebnis von:\", zahl1, \"+\", zahl2, \"+\", zahl3, \"ist:\", erg)\n",
    "\n",
    "\n",
    "#  Aufruf der Funktionen\n",
    "\n",
    "trenner(\"Quadrat\")\n",
    "quadrat(4)  # Aufruf der Funktion mit einem Parameter\n",
    "trenner(\"Division\")\n",
    "division(21, 3)  # Aufruf der Funktion mit 2 Parametern\n",
    "trenner(\"Addition\")\n",
    "addition(3, 4, 5)  # Aufruf der Funktion mit 3 Parametern"
   ]
  },
  {
   "cell_type": "markdown",
   "metadata": {},
   "source": [
    "### Funktionen mit Rückgabewert\n",
    "Wir haben gelernt, wie wir Werte übergeben, um diese weiter zu bearbeiten. Aber wie bekommen wir die bearbeiten Werte zurück?"
   ]
  },
  {
   "cell_type": "code",
   "execution_count": null,
   "metadata": {},
   "outputs": [],
   "source": [
    "# Die Funktionen werden erstellt:\n",
    "def trenner(name):\n",
    "    print()\n",
    "    print(\"/////////////////////\")\n",
    "    print(name)\n",
    "    print(\"/////////////////////\")\n",
    "    print()\n",
    "\n",
    "\n",
    "def quadrat(zahl):\n",
    "    ergebnis = zahl * zahl\n",
    "    return ergebnis\n",
    "\n",
    "\n",
    "def division(zahl1, zahl2):\n",
    "    ergebnis = zahl1 / zahl2\n",
    "    return ergebnis\n",
    "\n",
    "\n",
    "def addition(zahl1, zahl2, zahl3):\n",
    "    ergebnis = zahl1 + zahl2 + zahl3\n",
    "    return ergebnis\n",
    "\n",
    "\n",
    "#  Aufruf der Funktionen\n",
    "\n",
    "trenner(\"Quadrat\")\n",
    "erg1 = quadrat(4)\n",
    "print(\"Das Ergebnis des Quadrats ist:\", erg1)\n",
    "\n",
    "trenner(\"Division\")\n",
    "erg2 = division(21, 3)\n",
    "print(\"Das Ergebnis der Division ist:\", erg2)\n",
    "trenner(\"Addition\")\n",
    "erg3 = addition(3, 4, 5)\n",
    "print(\"Das Ergebnis der Addition ist:\", erg3)"
   ]
  },
  {
   "cell_type": "markdown",
   "metadata": {},
   "source": [
    "## if __name__ == '__main__': - Funktion\n",
    "<br>\n",
    "Diese spezielle Funktion sorgt dafür, das eine .py-Datei sowohl als eigenständige Datei aufgerufen werden kann, und trotzdem einzelne Funtionen importiert werden können: \n",
    "\n",
    "    "
   ]
  },
  {
   "cell_type": "code",
   "execution_count": null,
   "metadata": {},
   "outputs": [],
   "source": [
    "def main():\n",
    "    #  Hier könnte Ihr Code stehen!!!\n",
    "\n",
    "def mehr_Funktionen:\n",
    "    print(\"Bla...\")\n",
    "    \n",
    "if __name__ == '__main__':\n",
    "    main()"
   ]
  },
  {
   "cell_type": "markdown",
   "metadata": {},
   "source": [
    "### Methoden\n",
    "<br>\n",
    "Methoden werden Objekte angewandt. Beispielsweise auf eine Liste:\n"
   ]
  },
  {
   "cell_type": "code",
   "execution_count": null,
   "metadata": {},
   "outputs": [],
   "source": [
    "liste = [\"Auto\", \"Motorrad\"]\n",
    "print(liste)\n",
    "\n",
    "# Elemente hinzufügen\n",
    "liste.append(\"Motorroller\")\n",
    "liste.append(\"Mofa\")\n",
    "print(liste)\n",
    "\n",
    "# Elemente entfernen (Es wird bei 0 angefangen zu zählen)\n",
    "liste.pop(3)\n",
    "print(liste)\n",
    "\n",
    "#uvm"
   ]
  },
  {
   "cell_type": "markdown",
   "metadata": {},
   "source": [
    "## Das Programm ordnungsgemäß beenden\n",
    "Jetzt wo wir funktionen benutzen ist es auch notwendig u wissen, wie ein Programm ordnungsgemäß mit Exitcode 0 (ohne Fehler) beendet. Dazu muss das Modul \"sys\" importiert werden, und dann folgendes eingegeben werden:"
   ]
  },
  {
   "cell_type": "code",
   "execution_count": null,
   "metadata": {},
   "outputs": [],
   "source": [
    "import sys\n",
    "\n",
    "sys.exit(0) # Dies führt unter Jupyter-Notebooks zu Fehlern."
   ]
  },
  {
   "cell_type": "markdown",
   "metadata": {},
   "source": [
    "<img style=\"float: center;\" src=\"img/wbs-logo.jpg\">\n",
    "\n",
    "\n",
    "### Abbildungs- und Quellenverzeichnis\n",
    "https://de.wikipedia.org/wiki/Python_(Programmiersprache)\n",
    "Das Python Logo ist ein eingetragenes Warenzeichen der Python Software Foundation\n",
    "Alle auf dieser Website veröffentlichten Logos sowie Marken-, Produkt- und Warenzeichen sind Eigentum der jeweiligen Unternehmen\n",
    "© WBS TRAINING AG – Alle Rechte vorbehalten\n",
    "\n",
    "### Nutzungsrechte:\n",
    "Die Nutzung dieser Dokumentation ist ausschließlich für Schulungszwecke der WBS TRAINING AG gestattet. Eine Weitergabe an Dritte, auch auszugsweise, sowie Vervielfältigungen und Verbreitungen aller Art (elektronische und andere Verfahren) inklusive Übersetzungen sind nur mit vorheriger schriftlicher Zustimmung des Rechtinhabers gestattet. Zuwiderhandlungen verpflichten zu Schadenersatz.\n",
    "\n",
    "### Herausgeber:\n",
    "\n",
    "WBS TRAINING AG\n",
    "Lorenzweg 5\n",
    "12099 Berlin\n",
    "Haftungsausschluss:\n",
    "Alle Inhalte sind nach bestem Wissen korrekt und vollständig recherchiert und mit größtmöglicher Sorgfalt für die Schulungsunterlage zusammengestellt. Wir sind um die laufende Aktualisierung aller Informationen und Daten bemüht. Dennoch können Fehler (z.B. Abweichungen zur beschriebenen Hard- und Software durch kurzfristige Updates) auftreten, sodass wir für die vollständige Übereinstimmung, Richtigkeit und Aktualität keine Gewähr übernehmen. Hinweise unserer Nutzer werden konsequent weiterverfolgt.\n"
   ]
  }
 ],
 "metadata": {
  "kernelspec": {
   "display_name": "Python 3",
   "language": "python",
   "name": "python3"
  },
  "language_info": {
   "codemirror_mode": {
    "name": "ipython",
    "version": 3
   },
   "file_extension": ".py",
   "mimetype": "text/x-python",
   "name": "python",
   "nbconvert_exporter": "python",
   "pygments_lexer": "ipython3",
   "version": "3.8.5"
  }
 },
 "nbformat": 4,
 "nbformat_minor": 4
}