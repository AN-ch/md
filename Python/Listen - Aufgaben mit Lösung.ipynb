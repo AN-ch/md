{
 "cells": [
  {
   "cell_type": "markdown",
   "metadata": {},
   "source": [
    "# Aufgaben\n",
    "\n",
    "## Aufgabe 1:\n",
    "<br>\n",
    "Erstellen Sie bitte eine Liste mit Ihren Lieblingstieren (Mindestens 5).\n",
    "Lassen Sie sich diese Liste mit einer **for**-Schleife durch interieren."
   ]
  },
  {
   "cell_type": "code",
   "execution_count": null,
   "metadata": {},
   "outputs": [],
   "source": [
    "tiere =[\"Pferd\", \"Hund\", \"Katze\", \"Reh\", \"Igel\"]\n",
    "for i in tiere:\n",
    "    print(i)"
   ]
  },
  {
   "cell_type": "markdown",
   "metadata": {},
   "source": [
    "## Aufgabe 2:\n",
    "<br>\n",
    "Erweitern Sie bitte das Programm um eine Angabe der Menge in der Liste."
   ]
  },
  {
   "cell_type": "code",
   "execution_count": null,
   "metadata": {},
   "outputs": [],
   "source": [
    "tiere =[\"Pferd\", \"Hund\", \"Katze\", \"Reh\", \"Igel\"]\n",
    "print(\"Es sind\", len(tiere), \" Einträge in der Liste\")\n",
    "print()\n",
    "for i in tiere:\n",
    "    print(i)"
   ]
  },
  {
   "cell_type": "markdown",
   "metadata": {},
   "source": [
    "## Aufgabe 3:\n",
    "Geben Sie nur den 2. 4. und 5. Eintrag in dieser Liste aus.\n"
   ]
  },
  {
   "cell_type": "code",
   "execution_count": null,
   "metadata": {},
   "outputs": [],
   "source": [
    "tiere =[\"Pferd\", \"Hund\", \"Katze\", \"Reh\", \"Igel\"]\n",
    "print(tiere[1], tiere[3], tiere[4])\n"
   ]
  },
  {
   "cell_type": "markdown",
   "metadata": {},
   "source": [
    "## Aufgabe 4:\n",
    "<br>\n",
    "Nehmen Sie die Liste aus Aufgabe 1 und verdoppeln Sie diese. Geben Sie diese danach ais (iteriert).\n"
   ]
  },
  {
   "cell_type": "code",
   "execution_count": null,
   "metadata": {},
   "outputs": [],
   "source": [
    "tiere =[\"Pferd\", \"Hund\", \"Katze\", \"Reh\", \"Igel\"]\n",
    "tiere = tiere * 2\n",
    "for i in tiere:\n",
    "    print(i)"
   ]
  },
  {
   "cell_type": "markdown",
   "metadata": {},
   "source": [
    "## Aufgabe 5:\n",
    "<br>\n",
    "Nehmen Sie die Liste aus Aufgabe 1 und tauschen das 2. Tier gegen ein Huhn."
   ]
  },
  {
   "cell_type": "code",
   "execution_count": null,
   "metadata": {},
   "outputs": [],
   "source": [
    "tiere =[\"Pferd\", \"Hund\", \"Katze\", \"Reh\", \"Igel\"]\n",
    "tiere[1] = \"Huhn\"\n",
    "for i in tiere:\n",
    "    print(i)"
   ]
  },
  {
   "cell_type": "markdown",
   "metadata": {},
   "source": [
    "## Aufgabe 6:\n",
    "<br>\n",
    "Hängen Sie bitte ein Hängebauchschwein an das Ende der Liste:\n"
   ]
  },
  {
   "cell_type": "code",
   "execution_count": null,
   "metadata": {},
   "outputs": [],
   "source": [
    "tiere =[\"Pferd\", \"Hund\", \"Katze\", \"Reh\", \"Igel\"]\n",
    "tiere.append(\"Hängebauchschwein\")\n",
    "for i in tiere:\n",
    "    print(i)"
   ]
  },
  {
   "cell_type": "markdown",
   "metadata": {},
   "source": [
    "## Aufgabe 7:\n",
    "<br>\n",
    "Sortieren Sie die Liste:"
   ]
  },
  {
   "cell_type": "code",
   "execution_count": null,
   "metadata": {},
   "outputs": [],
   "source": [
    "tiere =[\"Pferd\", \"Hund\", \"Katze\", \"Reh\", \"Igel\"]\n",
    "tiere.sort()\n",
    "for i in tiere:\n",
    "    print(i)"
   ]
  },
  {
   "cell_type": "markdown",
   "metadata": {},
   "source": [
    "## Aufgabe 8:\n",
    "<br>\n",
    "Ändern Sie händisch die Liste in ein Tupel und geben Sie diese aus:"
   ]
  },
  {
   "cell_type": "code",
   "execution_count": null,
   "metadata": {},
   "outputs": [],
   "source": [
    "tiere =(\"Pferd\", \"Hund\", \"Katze\", \"Reh\", \"Igel\")\n",
    "\n",
    "for i in tiere:\n",
    "    print(i)"
   ]
  },
  {
   "cell_type": "markdown",
   "metadata": {},
   "source": [
    "## Aufgabe 9 (schwer):\n",
    "<br>\n",
    "Schreiben Sie ein kleines Englisch-Lernprogramm, in dem ein Dictionary der Reihe nach ausgegeben, und nach die Übersetzung des entsprechenden Wortes gefragt wird.\n",
    "Die Antwort soll bewertet werden (richtig oder falsch).\n",
    "\n",
    "**Tipp:** Die **list()**-Funktion könnte Ihnen helfen."
   ]
  },
  {
   "cell_type": "code",
   "execution_count": null,
   "metadata": {},
   "outputs": [],
   "source": [
    "dict = {\"Chair\":\"Stuhl\", \"Table\":\"Tisch\", \"Car\":\"Auto\"}\n",
    "\n",
    "k = list(dict.keys())\n",
    "\n",
    "for n in k:\n",
    "    a = input(\"was bedeutet \" + n +\" auf Englisch? \")\n",
    "    \n",
    "\n",
    "    if a == dict[n]:\n",
    "        print(\"Die Antwort ist richtig!\")\n",
    "    else:\n",
    "        print(\"Die Antwort ist falsch!\")\n",
    "        print(\"Die richtige Antwort ist: \", dict[n])\n",
    "    \n",
    "print()"
   ]
  },
  {
   "cell_type": "markdown",
   "metadata": {},
   "source": [
    "<img style=\"float: center;\" src=\"img/wbs-logo.jpg\">\n",
    "\n",
    "\n",
    "### Abbildungs- und Quellenverzeichnis\n",
    "https://de.wikipedia.org/wiki/Python_(Programmiersprache)\n",
    "Das Python Logo ist ein eingetragenes Warenzeichen der Python Software Foundation\n",
    "Alle auf dieser Website veröffentlichten Logos sowie Marken-, Produkt- und Warenzeichen sind Eigentum der jeweiligen Unternehmen\n",
    "© WBS TRAINING AG – Alle Rechte vorbehalten\n",
    "\n",
    "### Nutzungsrechte:\n",
    "Die Nutzung dieser Dokumentation ist ausschließlich für Schulungszwecke der WBS TRAINING AG gestattet. Eine Weitergabe an Dritte, auch auszugsweise, sowie Vervielfältigungen und Verbreitungen aller Art (elektronische und andere Verfahren) inklusive Übersetzungen sind nur mit vorheriger schriftlicher Zustimmung des Rechtinhabers gestattet. Zuwiderhandlungen verpflichten zu Schadenersatz.\n",
    "\n",
    "### Herausgeber:\n",
    "\n",
    "WBS TRAINING AG\n",
    "Lorenzweg 5\n",
    "12099 Berlin\n",
    "\n",
    "### Haftungsausschluss:\n",
    "Alle Inhalte sind nach bestem Wissen korrekt und vollständig recherchiert und mit größtmöglicher Sorgfalt für die Schulungsunterlage zusammengestellt. Wir sind um die laufende Aktualisierung aller Informationen und Daten bemüht. Dennoch können Fehler (z.B. Abweichungen zur beschriebenen Hard- und Software durch kurzfristige Updates) auftreten, sodass wir für die vollständige Übereinstimmung, Richtigkeit und Aktualität keine Gewähr übernehmen. Hinweise unserer Nutzer werden konsequent weiterverfolgt.\n"
   ]
  }
 ],
 "metadata": {
  "kernelspec": {
   "display_name": "Python 3",
   "language": "python",
   "name": "python3"
  },
  "language_info": {
   "codemirror_mode": {
    "name": "ipython",
    "version": 3
   },
   "file_extension": ".py",
   "mimetype": "text/x-python",
   "name": "python",
   "nbconvert_exporter": "python",
   "pygments_lexer": "ipython3",
   "version": "3.8.5"
  }
 },
 "nbformat": 4,
 "nbformat_minor": 4
}
