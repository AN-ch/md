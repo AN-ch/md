{
 "cells": [
  {
   "cell_type": "markdown",
   "metadata": {},
   "source": [
    "# ILP\n",
    "\n",
    "## Wichtig\n",
    "\n",
    "<br> Erinnern Sie sich an das Beispiel von gestern?\n",
    "<br> Heute haben Sie gelernt, wie sie Abfragene erstellen. \n",
    "<br> Lassen Sie uns dieses Wissen einmal auf die Aufgabe von gestern anwenden. \n"
   ]
  },
  {
   "cell_type": "markdown",
   "metadata": {},
   "source": [
    "## Aufgabe 1:\n",
    "<br> Fügen Sie eine Abfrage ein, die sicherstellt, dass Werte von über 50 zu einer Fehlermeldung führt.\n"
   ]
  },
  {
   "cell_type": "code",
   "execution_count": 4,
   "metadata": {},
   "outputs": [
    {
     "name": "stdout",
     "output_type": "stream",
     "text": [
      "Der Wert darf nicht größer als 50 sein!\n"
     ]
    }
   ],
   "source": [
    "# Eingabe der Höhe und Breite\n",
    "hoehe = int(input (\"Welche Höhe hat das Rechteck?\"))\n",
    "breite = int(input (\"Welche Breite hat das Dreieck\"))\n",
    "maxwert = 50\n",
    "\n",
    "i= 0\n",
    "y= 0\n",
    "if (hoehe <maxwert) & (breite <maxwert):\n",
    "    \n",
    "    #Diese Schleife setzt einen Zeilenumbruch\n",
    "    for y in range(hoehe):\n",
    "        print (\"\")\n",
    "        #Diese erzeugt die Sterne\n",
    "        for i in range(breite):\n",
    "            print(\"*\", end = '')\n",
    "            \n",
    "else:\n",
    "    print (\"Der Wert darf nicht größer als 50 sein!\")"
   ]
  },
  {
   "cell_type": "markdown",
   "metadata": {},
   "source": [
    "## Aufgabe 2:\n",
    "<br> Sie haben den Auftrag erhalten, ein Programm zu schreiben, dass eine variable Anzahl von Noten einliest und den <br>Notenschnitt berechnet. Zudem soll sichergestellt sein, dass nur Ganzzahlen eingegeben werden, die zwischen 1 und 6 <br>liegen."
   ]
  },
  {
   "cell_type": "code",
   "execution_count": 4,
   "metadata": {},
   "outputs": [
    {
     "name": "stdout",
     "output_type": "stream",
     "text": [
      "Wieviele Klausuren wurden in diesem Jahr geschrieben?2\n",
      "Bitte geben Sie die Note ein1\n",
      "Bitte geben Sie die Note ein2\n",
      "3\n"
     ]
    }
   ],
   "source": [
    "# eingabe der Notenanzahl\n",
    "anzahl = int (input (\"Wieviele Klausuren wurden in diesem Jahr geschrieben?\"))\n",
    "\n",
    "#liste erzeugen, bzw. eine leere Variable für die Berechnung der Summe anlegen\n",
    "noten=[]\n",
    "summe = None \n",
    "\n",
    "#Zählschleife für die Eingabe der Noten\n",
    "for i in range(anzahl):\n",
    "    eingabe =int(input (\"Bitte geben Sie die Note ein\"))\n",
    "    #abfrage ob die Note im Bereich zwischen 1-6 liegt\n",
    "    if eingabe in range(1,6):\n",
    "        #hinzufügen der note zur Liste\n",
    "        noten.append(eingabe)        \n",
    "    else:\n",
    "        print(\"Eingabe kann nicht außerhalb des Bereichs 1-6 liegen!\")\n",
    "        \n",
    "summe = sum(noten)       \n",
    "print (summe)\n",
    "        \n",
    "\n",
    "    \n",
    "    \n",
    "\n"
   ]
  },
  {
   "cell_type": "markdown",
   "metadata": {},
   "source": [
    "## Aufgabe 3:\n",
    "<br> Ihr Programm läuft! Wunderbar!  Im obigen Beispiel haben Sie für die Verwendung der Noten eine Liste genutzt.\n",
    "<br> Der Vorteil an Listen ist ihre Flexibilität bezüglich der Formate der Eingabe, denn hier kann sowohl eine Zeichenkette\n",
    "<br> als auch Zahlen oder [...] eingegeben werden. Allerdings verbrauchen diese Listen auch mehr Speicherplatz. \n",
    "<br> Finden Sie eine Möglichkeit, hier mit einer Tabelle (array) zu arbeiten!"
   ]
  },
  {
   "cell_type": "code",
   "execution_count": null,
   "metadata": {},
   "outputs": [
    {
     "name": "stdout",
     "output_type": "stream",
     "text": [
      "Wieviele Klausuren wurden in diesem Jahr geschrieben?2\n",
      "Bitte geben Sie die Note ein1\n",
      "Ich bin in der Abfrage ob eine Zahl eingegeben wurde\n",
      "Ich bin in der Abfrage, zwischen 1 und 6\n",
      "1\n"
     ]
    }
   ],
   "source": [
    "# eingabe der Notenanzahl\n",
    "anzahl = int(input (\"Wieviele Klausuren wurden in diesem Jahr geschrieben?\"))\n",
    "\n",
    "#liste erzeugen, bzw. eine leere Variable für die Berechnung der Summe anlegen\n",
    "noten=[]\n",
    "summe = None \n",
    "\n",
    "#Zählschleife für die Eingabe der Noten\n",
    "for i in range(anzahl):\n",
    "    eingabe = input (\"Bitte geben Sie die Note ein\")\n",
    "    # Hier soll versucht werden, die Note zum Int zu formatieren. Geht das, läuft das Programm weiter. Sonst geht es zum except\n",
    "    try:\n",
    "        note=int(eingabe)\n",
    "        #abfrage ob die Note im Bereich zwischen 1-6 liegt\n",
    "        if note in range(1,6):\n",
    "            #hinzufügen der note zur Liste\n",
    "            noten.append(note)        \n",
    "        #liegt die Note nicht zwischen 1 und 6, geht es hier weiter\n",
    "        else:\n",
    "            print(\"Eingabe kann nicht außerhalb des Bereichs 1-6 liegen!\")\n",
    "            break\n",
    "        \n",
    "        summe = sum(noten)       \n",
    "        print (summe)\n",
    "    except: \n",
    "        print(\"Ihre Eingabe muss eine Zahl sein\")\n",
    "        break\n",
    "   \n",
    "   "
   ]
  },
  {
   "cell_type": "code",
   "execution_count": null,
   "metadata": {},
   "outputs": [],
   "source": []
  }
 ],
 "metadata": {
  "kernelspec": {
   "display_name": "Python 3",
   "language": "python",
   "name": "python3"
  },
  "language_info": {
   "codemirror_mode": {
    "name": "ipython",
    "version": 3
   },
   "file_extension": ".py",
   "mimetype": "text/x-python",
   "name": "python",
   "nbconvert_exporter": "python",
   "pygments_lexer": "ipython3",
   "version": "3.8.5"
  }
 },
 "nbformat": 4,
 "nbformat_minor": 4
}
