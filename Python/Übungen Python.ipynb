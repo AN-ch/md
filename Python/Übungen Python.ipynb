{
 "cells": [
  {
   "cell_type": "markdown",
   "id": "1f90c222",
   "metadata": {},
   "source": [
    "hallo hallo"
   ]
  },
  {
   "cell_type": "code",
   "execution_count": 1,
   "id": "4bd11f9c",
   "metadata": {},
   "outputs": [
    {
     "data": {
      "text/plain": [
       "5"
      ]
     },
     "execution_count": 1,
     "metadata": {},
     "output_type": "execute_result"
    }
   ],
   "source": [
    "5"
   ]
  },
  {
   "cell_type": "code",
   "execution_count": 7,
   "id": "3b774adb",
   "metadata": {},
   "outputs": [
    {
     "name": "stdout",
     "output_type": "stream",
     "text": [
      "Name:\n",
      "Nachname:\n",
      "Adresse\n"
     ]
    }
   ],
   "source": [
    "print(\"Name:\")\n",
    "print(\"Nachname:\")\n",
    "print(\"Adresse\")"
   ]
  },
  {
   "cell_type": "code",
   "execution_count": 1,
   "id": "4c794538",
   "metadata": {},
   "outputs": [
    {
     "name": "stdout",
     "output_type": "stream",
     "text": [
      "Python ist eine tolle Programmiersprache.\n",
      "Python ist eine tolle Programmiersprache.\n",
      "Python ist eine tolle Programmiersprache.\n",
      "Python ist eine tolle Programmiersprache.\n",
      "Python ist eine tolle Programmiersprache.\n"
     ]
    }
   ],
   "source": [
    "for i in range(5):\n",
    "    print('Python ist eine tolle Programmiersprache.')"
   ]
  },
  {
   "cell_type": "code",
   "execution_count": null,
   "id": "2f37bc3a",
   "metadata": {},
   "outputs": [],
   "source": []
  },
  {
   "cell_type": "code",
   "execution_count": null,
   "id": "b1d5d43c",
   "metadata": {},
   "outputs": [],
   "source": []
  },
  {
   "cell_type": "markdown",
   "id": "e672b1ef",
   "metadata": {},
   "source": []
  },
  {
   "cell_type": "code",
   "execution_count": 5,
   "id": "6a8848f7",
   "metadata": {},
   "outputs": [],
   "source": [
    "name = \"Anna\""
   ]
  },
  {
   "cell_type": "code",
   "execution_count": 6,
   "id": "e029908a",
   "metadata": {},
   "outputs": [
    {
     "name": "stdout",
     "output_type": "stream",
     "text": [
      "Anna\n"
     ]
    }
   ],
   "source": [
    "print(name)"
   ]
  },
  {
   "cell_type": "code",
   "execution_count": 5,
   "id": "de342936",
   "metadata": {},
   "outputs": [
    {
     "name": "stdout",
     "output_type": "stream",
     "text": [
      "Halli, hallo\n",
      "Halli, hallo\n",
      "Halli, hallo\n"
     ]
    }
   ],
   "source": [
    "for i in range(3):\n",
    "    print( 'Halli, hallo')"
   ]
  },
  {
   "cell_type": "code",
   "execution_count": 7,
   "id": "c9fcabcc",
   "metadata": {},
   "outputs": [
    {
     "name": "stdout",
     "output_type": "stream",
     "text": [
      "0.5833333333333334\n",
      "1.1666666666666667\n",
      "1.75\n",
      "2.3333333333333335\n",
      "2.9166666666666665\n",
      "3.5\n",
      "4.083333333333333\n",
      "4.666666666666667\n",
      "5.25\n",
      "5.833333333333333\n"
     ]
    }
   ],
   "source": [
    "for i in range (10):\n",
    "    print(((i+1)*7)/12)"
   ]
  },
  {
   "cell_type": "code",
   "execution_count": 8,
   "id": "3f13f3d5",
   "metadata": {},
   "outputs": [
    {
     "name": "stdout",
     "output_type": "stream",
     "text": [
      "1\n",
      "2\n",
      "3\n",
      "4\n",
      "5\n",
      "6\n",
      "7\n",
      "8\n",
      "9\n",
      "10\n"
     ]
    }
   ],
   "source": [
    "for i in range(1,11):\n",
    "    print(i)"
   ]
  },
  {
   "cell_type": "code",
   "execution_count": 14,
   "id": "48b4e822",
   "metadata": {},
   "outputs": [
    {
     "name": "stdout",
     "output_type": "stream",
     "text": [
      "was soll wiederholt werden?3\n",
      "wie oft?3\n",
      "du hast dir 3 gewünscht\n",
      "3\n",
      "3\n",
      "3\n"
     ]
    }
   ],
   "source": [
    "frage = input('was soll wiederholt werden?')\n",
    "anzahl= int(input('wie oft?'))\n",
    "print( 'du hast dir', anzahl, 'gewünscht' )\n",
    "for i in range(3):\n",
    "    print (frage)\n",
    "    "
   ]
  },
  {
   "cell_type": "code",
   "execution_count": 23,
   "id": "b9af7eba",
   "metadata": {},
   "outputs": [
    {
     "name": "stdout",
     "output_type": "stream",
     "text": [
      "was soll wiederholt werden?Mama \n",
      "wie oft?3\n",
      "du hast dir 3 gewünscht\n",
      "Mama \n",
      "Mama \n",
      "Mama \n"
     ]
    }
   ],
   "source": [
    "frage= input('was soll wiederholt werden?')\n",
    "anzahl = int(input('wie oft?'))\n",
    "print('du hast dir', anzahl, 'gewünscht')\n",
    "for i in range(3):\n",
    "    print (frage)"
   ]
  },
  {
   "cell_type": "code",
   "execution_count": 25,
   "id": "a30622f4",
   "metadata": {},
   "outputs": [
    {
     "data": {
      "text/plain": [
       "'Hallo!, Hallo! machen wir weiter... bitte nicht schlafen'"
      ]
     },
     "execution_count": 25,
     "metadata": {},
     "output_type": "execute_result"
    }
   ],
   "source": [
    "'Hallo!, Hallo! machen wir weiter... bitte nicht schlafen'"
   ]
  },
  {
   "cell_type": "code",
   "execution_count": 26,
   "id": "9ad54e85",
   "metadata": {},
   "outputs": [
    {
     "name": "stdout",
     "output_type": "stream",
     "text": [
      "Was soll wiederholt werden?Hallo Leute!\n",
      "Wie oft3\n",
      "Hallo Leute!\n",
      "Hallo Leute!\n",
      "Hallo Leute!\n"
     ]
    }
   ],
   "source": [
    "text= input('Was soll wiederholt werden?')\n",
    "anzahl= int(input('Wie oft'))\n",
    "i=1\n",
    "while i <= anzahl:\n",
    "    print(text)\n",
    "    i+=1"
   ]
  },
  {
   "cell_type": "code",
   "execution_count": 27,
   "id": "5ef46a25",
   "metadata": {},
   "outputs": [
    {
     "name": "stdout",
     "output_type": "stream",
     "text": [
      "START2\n",
      "Wie oft?2\n"
     ]
    }
   ],
   "source": [
    "text = input('START')\n",
    "anzahl=int(input('Wie oft?'))\n",
    "i=1\n",
    "while i >=10:\n",
    "    print(i)\n",
    "    i-=1\n",
    "\n"
   ]
  },
  {
   "cell_type": "code",
   "execution_count": 29,
   "id": "e1233827",
   "metadata": {},
   "outputs": [],
   "source": [
    "i=1\n",
    "while i >=10:\n",
    "    print(i)\n",
    "    i-=1"
   ]
  },
  {
   "cell_type": "code",
   "execution_count": 30,
   "id": "65387a7c",
   "metadata": {
    "scrolled": true
   },
   "outputs": [
    {
     "data": {
      "text/plain": [
       "'START'"
      ]
     },
     "execution_count": 30,
     "metadata": {},
     "output_type": "execute_result"
    }
   ],
   "source": [
    "'START'"
   ]
  },
  {
   "cell_type": "code",
   "execution_count": 36,
   "id": "34961826",
   "metadata": {
    "scrolled": true
   },
   "outputs": [
    {
     "name": "stdout",
     "output_type": "stream",
     "text": [
      "Coutdown Programm\n",
      "\n",
      "10\n",
      "9\n",
      "8\n",
      "7\n",
      "6\n",
      "5\n",
      "4\n",
      "3\n",
      "2\n",
      "1\n",
      "0\n",
      "START\n"
     ]
    }
   ],
   "source": [
    "print( 'Coutdown Programm')\n",
    "print()\n",
    "\n",
    "i=10\n",
    "while i >=0:\n",
    "    print(i)\n",
    "    -=1\n",
    "    \n",
    "print('START')"
   ]
  },
  {
   "cell_type": "code",
   "execution_count": 32,
   "id": "c3a9d21c",
   "metadata": {},
   "outputs": [
    {
     "data": {
      "text/plain": [
       "'START'"
      ]
     },
     "execution_count": 32,
     "metadata": {},
     "output_type": "execute_result"
    }
   ],
   "source": [
    "'START'\n"
   ]
  },
  {
   "cell_type": "code",
   "execution_count": 33,
   "id": "12cabe12",
   "metadata": {},
   "outputs": [
    {
     "name": "stdout",
     "output_type": "stream",
     "text": [
      "Start\n"
     ]
    }
   ],
   "source": [
    "print('Start')"
   ]
  },
  {
   "cell_type": "code",
   "execution_count": 34,
   "id": "338ed36b",
   "metadata": {},
   "outputs": [
    {
     "name": "stdout",
     "output_type": "stream",
     "text": [
      "START\n"
     ]
    }
   ],
   "source": [
    "print('START')\n",
    "for i in range(10,-1):\n",
    "    print (i)"
   ]
  },
  {
   "cell_type": "code",
   "execution_count": 39,
   "id": "eb1760d2",
   "metadata": {},
   "outputs": [
    {
     "name": "stdout",
     "output_type": "stream",
     "text": [
      "Coutdown Programm\n",
      "\n",
      "10\n",
      "9\n",
      "8\n",
      "7\n",
      "6\n",
      "5\n",
      "4\n",
      "3\n",
      "2\n",
      "1\n",
      "0\n",
      " Vorsicht an der Rampe \n",
      "START\n"
     ]
    }
   ],
   "source": [
    "print('Coutdown Programm')\n",
    "print()\n",
    "j=\" Vorsicht an der Rampe\"\n",
    "i=10\n",
    "while i>=0:\n",
    "    print(i)\n",
    "    i-=1\n",
    "    \n",
    "print(j, '\\nSTART')   "
   ]
  },
  {
   "cell_type": "code",
   "execution_count": null,
   "id": "4035cf51",
   "metadata": {},
   "outputs": [],
   "source": [
    "print('Coutdown Programm')\n",
    "print()\n"
   ]
  }
 ],
 "metadata": {
  "kernelspec": {
   "display_name": "Python 3 (ipykernel)",
   "language": "python",
   "name": "python3"
  },
  "language_info": {
   "codemirror_mode": {
    "name": "ipython",
    "version": 3
   },
   "file_extension": ".py",
   "mimetype": "text/x-python",
   "name": "python",
   "nbconvert_exporter": "python",
   "pygments_lexer": "ipython3",
   "version": "3.9.13"
  }
 },
 "nbformat": 4,
 "nbformat_minor": 5
}
